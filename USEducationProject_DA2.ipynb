{
 "cells": [
  {
   "cell_type": "code",
   "execution_count": 367,
   "metadata": {},
   "outputs": [],
   "source": [
    "import pandas as pd\n",
    "import numpy as np\n",
    "import matplotlib.pyplot as plt"
   ]
  },
  {
   "cell_type": "markdown",
   "metadata": {},
   "source": [
    "Feature 1 - Loading Data: Read data from a csv file"
   ]
  },
  {
   "cell_type": "code",
   "execution_count": 368,
   "metadata": {},
   "outputs": [
    {
     "name": "stdout",
     "output_type": "stream",
     "text": [
      "<class 'pandas.core.frame.DataFrame'>\n",
      "RangeIndex: 42 entries, 0 to 41\n",
      "Data columns (total 18 columns):\n",
      " #   Column                           Non-Null Count  Dtype \n",
      "---  ------                           --------------  ----- \n",
      " 0   Gender                           42 non-null     object\n",
      " 1   Characteristic                   42 non-null     object\n",
      " 2   Total                            42 non-null     int64 \n",
      " 3   None                             42 non-null     int64 \n",
      " 4   1st - 4th grade                  42 non-null     int64 \n",
      " 5   5th - 6th grade                  42 non-null     int64 \n",
      " 6   7th - 8th grade                  42 non-null     int64 \n",
      " 7   9th grade                        42 non-null     int64 \n",
      " 8   10th grade                       42 non-null     int64 \n",
      " 9   11th grade                       42 non-null     int64 \n",
      " 10  High school graduate             42 non-null     int64 \n",
      " 11  Some college, no degree          42 non-null     int64 \n",
      " 12  Associates degree, occupational  42 non-null     int64 \n",
      " 13  Associates degree, academic      42 non-null     int64 \n",
      " 14  Bachelors degree                 42 non-null     int64 \n",
      " 15  Masters degree                   42 non-null     int64 \n",
      " 16  Professional degree              42 non-null     int64 \n",
      " 17  Doctoral degree                  42 non-null     int64 \n",
      "dtypes: int64(16), object(2)\n",
      "memory usage: 6.0+ KB\n",
      "None\n",
      "number of rows :  42\n"
     ]
    }
   ],
   "source": [
    "Asian_df = pd.read_csv(\"Educational Attainment_asian.csv\", thousands=\",\")\n",
    "print(Asian_df.info())\n",
    "print(\"number of rows : \", Asian_df.shape[0])"
   ]
  },
  {
   "cell_type": "markdown",
   "metadata": {},
   "source": [
    "Feature 2 - Manipulate and clean data: Included a column in the database called Ethnicity. Included the value under this column called Asian. "
   ]
  },
  {
   "cell_type": "code",
   "execution_count": 369,
   "metadata": {},
   "outputs": [],
   "source": [
    "Asian_df['Ethnicity']= \"Asian\"\n"
   ]
  },
  {
   "cell_type": "code",
   "execution_count": 370,
   "metadata": {},
   "outputs": [
    {
     "data": {
      "text/plain": [
       "Index(['Gender', 'Characteristic', 'Total', 'None', '1st - 4th grade',\n",
       "       '5th - 6th grade', '7th - 8th grade', '9th grade', '10th grade',\n",
       "       '11th grade', 'High school graduate', 'Some college, no degree',\n",
       "       'Associates degree, occupational', 'Associates degree, academic',\n",
       "       'Bachelors degree', 'Masters degree', 'Professional degree',\n",
       "       'Doctoral degree', 'Ethnicity'],\n",
       "      dtype='object')"
      ]
     },
     "execution_count": 370,
     "metadata": {},
     "output_type": "execute_result"
    }
   ],
   "source": [
    "Asian_df.columns"
   ]
  },
  {
   "cell_type": "code",
   "execution_count": 371,
   "metadata": {},
   "outputs": [
    {
     "data": {
      "text/plain": [
       "0     Asian\n",
       "1     Asian\n",
       "2     Asian\n",
       "3     Asian\n",
       "4     Asian\n",
       "5     Asian\n",
       "6     Asian\n",
       "7     Asian\n",
       "8     Asian\n",
       "9     Asian\n",
       "10    Asian\n",
       "11    Asian\n",
       "12    Asian\n",
       "13    Asian\n",
       "14    Asian\n",
       "15    Asian\n",
       "16    Asian\n",
       "17    Asian\n",
       "18    Asian\n",
       "19    Asian\n",
       "20    Asian\n",
       "21    Asian\n",
       "22    Asian\n",
       "23    Asian\n",
       "24    Asian\n",
       "25    Asian\n",
       "26    Asian\n",
       "27    Asian\n",
       "28    Asian\n",
       "29    Asian\n",
       "30    Asian\n",
       "31    Asian\n",
       "32    Asian\n",
       "33    Asian\n",
       "34    Asian\n",
       "35    Asian\n",
       "36    Asian\n",
       "37    Asian\n",
       "38    Asian\n",
       "39    Asian\n",
       "40    Asian\n",
       "41    Asian\n",
       "Name: Ethnicity, dtype: object"
      ]
     },
     "metadata": {},
     "output_type": "display_data"
    }
   ],
   "source": [
    "display(Asian_df.Ethnicity)"
   ]
  },
  {
   "cell_type": "markdown",
   "metadata": {},
   "source": [
    "Feature 2 - Manipulate and clean data: Changed the value under column Gender from \"Both Sexes\" to \"Both Genders\" for a consistent terminology. "
   ]
  },
  {
   "cell_type": "code",
   "execution_count": 372,
   "metadata": {},
   "outputs": [],
   "source": [
    "Asian_df['Gender'] = Asian_df['Gender'].replace(['Both Sexes'], 'Both Genders')"
   ]
  },
  {
   "cell_type": "code",
   "execution_count": 373,
   "metadata": {},
   "outputs": [
    {
     "data": {
      "text/plain": [
       "0     Both Genders\n",
       "1     Both Genders\n",
       "2     Both Genders\n",
       "3     Both Genders\n",
       "4     Both Genders\n",
       "5     Both Genders\n",
       "6     Both Genders\n",
       "7     Both Genders\n",
       "8     Both Genders\n",
       "9     Both Genders\n",
       "10    Both Genders\n",
       "11    Both Genders\n",
       "12    Both Genders\n",
       "13    Both Genders\n",
       "14            Male\n",
       "15            Male\n",
       "16            Male\n",
       "17            Male\n",
       "18            Male\n",
       "19            Male\n",
       "20            Male\n",
       "21            Male\n",
       "22            Male\n",
       "23            Male\n",
       "24            Male\n",
       "25            Male\n",
       "26            Male\n",
       "27            Male\n",
       "28          Female\n",
       "29          Female\n",
       "30          Female\n",
       "31          Female\n",
       "32          Female\n",
       "33          Female\n",
       "34          Female\n",
       "35          Female\n",
       "36          Female\n",
       "37          Female\n",
       "38          Female\n",
       "39          Female\n",
       "40          Female\n",
       "41          Female\n",
       "Name: Gender, dtype: object"
      ]
     },
     "metadata": {},
     "output_type": "display_data"
    }
   ],
   "source": [
    "display(Asian_df.Gender)"
   ]
  },
  {
   "cell_type": "markdown",
   "metadata": {},
   "source": [
    "Feature 1 & 2: Repeated the same steps above for three additional data sets (Black, Hispanic, and White). "
   ]
  },
  {
   "cell_type": "code",
   "execution_count": 374,
   "metadata": {},
   "outputs": [
    {
     "name": "stdout",
     "output_type": "stream",
     "text": [
      "<class 'pandas.core.frame.DataFrame'>\n",
      "RangeIndex: 42 entries, 0 to 41\n",
      "Data columns (total 19 columns):\n",
      " #   Column                           Non-Null Count  Dtype \n",
      "---  ------                           --------------  ----- \n",
      " 0   Gender                           42 non-null     object\n",
      " 1   Characteristic                   42 non-null     object\n",
      " 2   Total                            42 non-null     int64 \n",
      " 3   None                             42 non-null     int64 \n",
      " 4   1st - 4th grade                  42 non-null     int64 \n",
      " 5   5th - 6th grade                  42 non-null     int64 \n",
      " 6   7th - 8th grade                  42 non-null     int64 \n",
      " 7   9th grade                        42 non-null     int64 \n",
      " 8   10th grade                       42 non-null     int64 \n",
      " 9   11th grade                       42 non-null     int64 \n",
      " 10  High school graduate             42 non-null     int64 \n",
      " 11  Some college, no degree          42 non-null     int64 \n",
      " 12  Associates degree, occupational  42 non-null     int64 \n",
      " 13  Associates degree, academic      42 non-null     int64 \n",
      " 14  Bachelors degree                 42 non-null     int64 \n",
      " 15  Masters degree                   42 non-null     int64 \n",
      " 16  Professional degree              42 non-null     int64 \n",
      " 17  Doctoral degree                  42 non-null     int64 \n",
      " 18  Ethnicity                        42 non-null     object\n",
      "dtypes: int64(16), object(3)\n",
      "memory usage: 6.4+ KB\n",
      "None\n",
      "number of rows :  42\n"
     ]
    }
   ],
   "source": [
    "Black_df = pd.read_csv(\"Educational Attainment_black.csv\", thousands=\",\")\n",
    "Black_df['Ethnicity']= \"Black or African American\"\n",
    "Black_df['Gender'] = Black_df['Gender'].replace(['Both Sexes'], 'Both Genders')\n",
    "print(Black_df.info())\n",
    "print(\"number of rows : \", Black_df.shape[0])"
   ]
  },
  {
   "cell_type": "code",
   "execution_count": 375,
   "metadata": {},
   "outputs": [
    {
     "name": "stdout",
     "output_type": "stream",
     "text": [
      "<class 'pandas.core.frame.DataFrame'>\n",
      "RangeIndex: 42 entries, 0 to 41\n",
      "Data columns (total 19 columns):\n",
      " #   Column                           Non-Null Count  Dtype \n",
      "---  ------                           --------------  ----- \n",
      " 0   Gender                           42 non-null     object\n",
      " 1   Characteristic                   42 non-null     object\n",
      " 2   Total                            42 non-null     int64 \n",
      " 3   None                             42 non-null     int64 \n",
      " 4   1st - 4th grade                  42 non-null     int64 \n",
      " 5   5th - 6th grade                  42 non-null     int64 \n",
      " 6   7th - 8th grade                  42 non-null     int64 \n",
      " 7   9th grade                        42 non-null     int64 \n",
      " 8   10th grade                       42 non-null     int64 \n",
      " 9   11th grade                       42 non-null     int64 \n",
      " 10  High school graduate             42 non-null     int64 \n",
      " 11  Some college, no degree          42 non-null     int64 \n",
      " 12  Associates degree, occupational  42 non-null     int64 \n",
      " 13  Associates degree, academic      42 non-null     int64 \n",
      " 14  Bachelors degree                 42 non-null     int64 \n",
      " 15  Masters degree                   42 non-null     int64 \n",
      " 16  Professional degree              42 non-null     int64 \n",
      " 17  Doctoral degree                  42 non-null     int64 \n",
      " 18  Ethnicity                        42 non-null     object\n",
      "dtypes: int64(16), object(3)\n",
      "memory usage: 6.4+ KB\n",
      "None\n",
      "number of rows :  42\n"
     ]
    }
   ],
   "source": [
    "Hispanic_df = pd.read_csv(\"Educational Attainment_hispanic.csv\", thousands=\",\")\n",
    "Hispanic_df['Ethnicity']= \"Hispanic or LatinX\"\n",
    "Hispanic_df['Gender'] = Hispanic_df['Gender'].replace(['Both Sexes'], 'Both Genders')\n",
    "print(Hispanic_df.info())\n",
    "print(\"number of rows : \", Hispanic_df.shape[0])"
   ]
  },
  {
   "cell_type": "code",
   "execution_count": 376,
   "metadata": {},
   "outputs": [
    {
     "name": "stdout",
     "output_type": "stream",
     "text": [
      "<class 'pandas.core.frame.DataFrame'>\n",
      "RangeIndex: 42 entries, 0 to 41\n",
      "Data columns (total 19 columns):\n",
      " #   Column                           Non-Null Count  Dtype \n",
      "---  ------                           --------------  ----- \n",
      " 0   Gender                           42 non-null     object\n",
      " 1   Characteristic                   42 non-null     object\n",
      " 2   Total                            42 non-null     int64 \n",
      " 3   None                             42 non-null     int64 \n",
      " 4   1st - 4th grade                  42 non-null     int64 \n",
      " 5   5th - 6th grade                  42 non-null     int64 \n",
      " 6   7th - 8th grade                  42 non-null     int64 \n",
      " 7   9th grade                        42 non-null     int64 \n",
      " 8   10th grade                       42 non-null     int64 \n",
      " 9   11th grade                       42 non-null     int64 \n",
      " 10  High school graduate             42 non-null     int64 \n",
      " 11  Some college, no degree          42 non-null     int64 \n",
      " 12  Associates degree, occupational  42 non-null     int64 \n",
      " 13  Associates degree, academic      42 non-null     int64 \n",
      " 14  Bachelors degree                 42 non-null     int64 \n",
      " 15  Masters degree                   42 non-null     int64 \n",
      " 16  Professional degree              42 non-null     int64 \n",
      " 17  Doctoral degree                  42 non-null     int64 \n",
      " 18  Ethnicity                        42 non-null     object\n",
      "dtypes: int64(16), object(3)\n",
      "memory usage: 6.4+ KB\n",
      "None\n",
      "number of rows :  42\n"
     ]
    }
   ],
   "source": [
    "White_df = pd.read_csv(\"Educational Attainment_white.csv\", thousands=\",\")\n",
    "White_df['Ethnicity']= \"White\"\n",
    "White_df['Gender'] = White_df['Gender'].replace(['Both Sexes'], 'Both Genders')\n",
    "print(White_df.info())\n",
    "print(\"number of rows : \", White_df.shape[0])"
   ]
  },
  {
   "cell_type": "markdown",
   "metadata": {},
   "source": [
    "Feature 2 - Manipulate and clean data: Merged all 4 data sets with Pandas into one data set."
   ]
  },
  {
   "cell_type": "code",
   "execution_count": 377,
   "metadata": {},
   "outputs": [
    {
     "name": "stdout",
     "output_type": "stream",
     "text": [
      "<class 'pandas.core.frame.DataFrame'>\n",
      "Int64Index: 168 entries, 0 to 41\n",
      "Data columns (total 19 columns):\n",
      " #   Column                           Non-Null Count  Dtype \n",
      "---  ------                           --------------  ----- \n",
      " 0   Gender                           168 non-null    object\n",
      " 1   Characteristic                   168 non-null    object\n",
      " 2   Total                            168 non-null    int64 \n",
      " 3   None                             168 non-null    int64 \n",
      " 4   1st - 4th grade                  168 non-null    int64 \n",
      " 5   5th - 6th grade                  168 non-null    int64 \n",
      " 6   7th - 8th grade                  168 non-null    int64 \n",
      " 7   9th grade                        168 non-null    int64 \n",
      " 8   10th grade                       168 non-null    int64 \n",
      " 9   11th grade                       168 non-null    int64 \n",
      " 10  High school graduate             168 non-null    int64 \n",
      " 11  Some college, no degree          168 non-null    int64 \n",
      " 12  Associates degree, occupational  168 non-null    int64 \n",
      " 13  Associates degree, academic      168 non-null    int64 \n",
      " 14  Bachelors degree                 168 non-null    int64 \n",
      " 15  Masters degree                   168 non-null    int64 \n",
      " 16  Professional degree              168 non-null    int64 \n",
      " 17  Doctoral degree                  168 non-null    int64 \n",
      " 18  Ethnicity                        168 non-null    object\n",
      "dtypes: int64(16), object(3)\n",
      "memory usage: 26.2+ KB\n",
      "None\n",
      "number of rows :  168\n"
     ]
    }
   ],
   "source": [
    "frames = [Asian_df, Hispanic_df, Black_df, White_df]\n",
    "  \n",
    "Merged_AllEthnicity = pd.concat(frames)\n",
    "print(Merged_AllEthnicity.info())\n",
    "print(\"number of rows : \", Merged_AllEthnicity.shape[0])"
   ]
  },
  {
   "cell_type": "code",
   "execution_count": 378,
   "metadata": {},
   "outputs": [
    {
     "data": {
      "text/html": [
       "<div>\n",
       "<style scoped>\n",
       "    .dataframe tbody tr th:only-of-type {\n",
       "        vertical-align: middle;\n",
       "    }\n",
       "\n",
       "    .dataframe tbody tr th {\n",
       "        vertical-align: top;\n",
       "    }\n",
       "\n",
       "    .dataframe thead th {\n",
       "        text-align: right;\n",
       "    }\n",
       "</style>\n",
       "<table border=\"1\" class=\"dataframe\">\n",
       "  <thead>\n",
       "    <tr style=\"text-align: right;\">\n",
       "      <th></th>\n",
       "      <th>Gender</th>\n",
       "      <th>Characteristic</th>\n",
       "      <th>Total</th>\n",
       "      <th>None</th>\n",
       "      <th>1st - 4th grade</th>\n",
       "      <th>5th - 6th grade</th>\n",
       "      <th>7th - 8th grade</th>\n",
       "      <th>9th grade</th>\n",
       "      <th>10th grade</th>\n",
       "      <th>11th grade</th>\n",
       "      <th>High school graduate</th>\n",
       "      <th>Some college, no degree</th>\n",
       "      <th>Associates degree, occupational</th>\n",
       "      <th>Associates degree, academic</th>\n",
       "      <th>Bachelors degree</th>\n",
       "      <th>Masters degree</th>\n",
       "      <th>Professional degree</th>\n",
       "      <th>Doctoral degree</th>\n",
       "      <th>Ethnicity</th>\n",
       "    </tr>\n",
       "  </thead>\n",
       "  <tbody>\n",
       "    <tr>\n",
       "      <th>0</th>\n",
       "      <td>Both Genders</td>\n",
       "      <td>\\t 18 years and over</td>\n",
       "      <td>15954</td>\n",
       "      <td>133</td>\n",
       "      <td>64</td>\n",
       "      <td>152</td>\n",
       "      <td>185</td>\n",
       "      <td>120</td>\n",
       "      <td>139</td>\n",
       "      <td>406</td>\n",
       "      <td>2795</td>\n",
       "      <td>1776</td>\n",
       "      <td>385</td>\n",
       "      <td>644</td>\n",
       "      <td>5219</td>\n",
       "      <td>2828</td>\n",
       "      <td>332</td>\n",
       "      <td>777</td>\n",
       "      <td>Asian</td>\n",
       "    </tr>\n",
       "    <tr>\n",
       "      <th>1</th>\n",
       "      <td>Both Genders</td>\n",
       "      <td>\\t\\t  18 to 24 years</td>\n",
       "      <td>1707</td>\n",
       "      <td>5</td>\n",
       "      <td>0</td>\n",
       "      <td>0</td>\n",
       "      <td>4</td>\n",
       "      <td>6</td>\n",
       "      <td>17</td>\n",
       "      <td>157</td>\n",
       "      <td>266</td>\n",
       "      <td>711</td>\n",
       "      <td>13</td>\n",
       "      <td>64</td>\n",
       "      <td>421</td>\n",
       "      <td>39</td>\n",
       "      <td>0</td>\n",
       "      <td>2</td>\n",
       "      <td>Asian</td>\n",
       "    </tr>\n",
       "    <tr>\n",
       "      <th>2</th>\n",
       "      <td>Both Genders</td>\n",
       "      <td>\\t 25 years and over</td>\n",
       "      <td>14247</td>\n",
       "      <td>128</td>\n",
       "      <td>64</td>\n",
       "      <td>152</td>\n",
       "      <td>181</td>\n",
       "      <td>114</td>\n",
       "      <td>122</td>\n",
       "      <td>249</td>\n",
       "      <td>2529</td>\n",
       "      <td>1065</td>\n",
       "      <td>372</td>\n",
       "      <td>580</td>\n",
       "      <td>4798</td>\n",
       "      <td>2788</td>\n",
       "      <td>332</td>\n",
       "      <td>775</td>\n",
       "      <td>Asian</td>\n",
       "    </tr>\n",
       "    <tr>\n",
       "      <th>3</th>\n",
       "      <td>Both Genders</td>\n",
       "      <td>\\t\\t  25 to 29 years</td>\n",
       "      <td>1596</td>\n",
       "      <td>0</td>\n",
       "      <td>0</td>\n",
       "      <td>0</td>\n",
       "      <td>3</td>\n",
       "      <td>0</td>\n",
       "      <td>10</td>\n",
       "      <td>25</td>\n",
       "      <td>169</td>\n",
       "      <td>157</td>\n",
       "      <td>42</td>\n",
       "      <td>56</td>\n",
       "      <td>689</td>\n",
       "      <td>390</td>\n",
       "      <td>21</td>\n",
       "      <td>35</td>\n",
       "      <td>Asian</td>\n",
       "    </tr>\n",
       "    <tr>\n",
       "      <th>4</th>\n",
       "      <td>Both Genders</td>\n",
       "      <td>\\t\\t  30 to 34 years</td>\n",
       "      <td>1679</td>\n",
       "      <td>2</td>\n",
       "      <td>0</td>\n",
       "      <td>7</td>\n",
       "      <td>9</td>\n",
       "      <td>5</td>\n",
       "      <td>8</td>\n",
       "      <td>15</td>\n",
       "      <td>157</td>\n",
       "      <td>111</td>\n",
       "      <td>43</td>\n",
       "      <td>85</td>\n",
       "      <td>564</td>\n",
       "      <td>524</td>\n",
       "      <td>44</td>\n",
       "      <td>106</td>\n",
       "      <td>Asian</td>\n",
       "    </tr>\n",
       "  </tbody>\n",
       "</table>\n",
       "</div>"
      ],
      "text/plain": [
       "         Gender        Characteristic  Total  None  1st - 4th grade  \\\n",
       "0  Both Genders  \\t 18 years and over  15954   133               64   \n",
       "1  Both Genders  \\t\\t  18 to 24 years   1707     5                0   \n",
       "2  Both Genders  \\t 25 years and over  14247   128               64   \n",
       "3  Both Genders  \\t\\t  25 to 29 years   1596     0                0   \n",
       "4  Both Genders  \\t\\t  30 to 34 years   1679     2                0   \n",
       "\n",
       "   5th - 6th grade  7th - 8th grade  9th grade  10th grade  11th grade  \\\n",
       "0              152              185        120         139         406   \n",
       "1                0                4          6          17         157   \n",
       "2              152              181        114         122         249   \n",
       "3                0                3          0          10          25   \n",
       "4                7                9          5           8          15   \n",
       "\n",
       "   High school graduate  Some college, no degree  \\\n",
       "0                  2795                     1776   \n",
       "1                   266                      711   \n",
       "2                  2529                     1065   \n",
       "3                   169                      157   \n",
       "4                   157                      111   \n",
       "\n",
       "   Associates degree, occupational  Associates degree, academic  \\\n",
       "0                              385                          644   \n",
       "1                               13                           64   \n",
       "2                              372                          580   \n",
       "3                               42                           56   \n",
       "4                               43                           85   \n",
       "\n",
       "   Bachelors degree  Masters degree  Professional degree  Doctoral degree  \\\n",
       "0              5219            2828                  332              777   \n",
       "1               421              39                    0                2   \n",
       "2              4798            2788                  332              775   \n",
       "3               689             390                   21               35   \n",
       "4               564             524                   44              106   \n",
       "\n",
       "  Ethnicity  \n",
       "0     Asian  \n",
       "1     Asian  \n",
       "2     Asian  \n",
       "3     Asian  \n",
       "4     Asian  "
      ]
     },
     "execution_count": 378,
     "metadata": {},
     "output_type": "execute_result"
    }
   ],
   "source": [
    "Merged_AllEthnicity.head()"
   ]
  },
  {
   "cell_type": "markdown",
   "metadata": {},
   "source": [
    "Feature 2 - Manipulate and clean data: Changed the name of a column. "
   ]
  },
  {
   "cell_type": "code",
   "execution_count": 379,
   "metadata": {},
   "outputs": [
    {
     "data": {
      "text/html": [
       "<div>\n",
       "<style scoped>\n",
       "    .dataframe tbody tr th:only-of-type {\n",
       "        vertical-align: middle;\n",
       "    }\n",
       "\n",
       "    .dataframe tbody tr th {\n",
       "        vertical-align: top;\n",
       "    }\n",
       "\n",
       "    .dataframe thead th {\n",
       "        text-align: right;\n",
       "    }\n",
       "</style>\n",
       "<table border=\"1\" class=\"dataframe\">\n",
       "  <thead>\n",
       "    <tr style=\"text-align: right;\">\n",
       "      <th></th>\n",
       "      <th>Gender</th>\n",
       "      <th>Age Group</th>\n",
       "      <th>Total</th>\n",
       "      <th>None</th>\n",
       "      <th>1st - 4th grade</th>\n",
       "      <th>5th - 6th grade</th>\n",
       "      <th>7th - 8th grade</th>\n",
       "      <th>9th grade</th>\n",
       "      <th>10th grade</th>\n",
       "      <th>11th grade</th>\n",
       "      <th>High school graduate</th>\n",
       "      <th>Some college, no degree</th>\n",
       "      <th>Associates degree, occupational</th>\n",
       "      <th>Associates degree, academic</th>\n",
       "      <th>Bachelors degree</th>\n",
       "      <th>Masters degree</th>\n",
       "      <th>Professional degree</th>\n",
       "      <th>Doctoral degree</th>\n",
       "      <th>Ethnicity</th>\n",
       "    </tr>\n",
       "  </thead>\n",
       "  <tbody>\n",
       "    <tr>\n",
       "      <th>0</th>\n",
       "      <td>Both Genders</td>\n",
       "      <td>\\t 18 years and over</td>\n",
       "      <td>15954</td>\n",
       "      <td>133</td>\n",
       "      <td>64</td>\n",
       "      <td>152</td>\n",
       "      <td>185</td>\n",
       "      <td>120</td>\n",
       "      <td>139</td>\n",
       "      <td>406</td>\n",
       "      <td>2795</td>\n",
       "      <td>1776</td>\n",
       "      <td>385</td>\n",
       "      <td>644</td>\n",
       "      <td>5219</td>\n",
       "      <td>2828</td>\n",
       "      <td>332</td>\n",
       "      <td>777</td>\n",
       "      <td>Asian</td>\n",
       "    </tr>\n",
       "    <tr>\n",
       "      <th>1</th>\n",
       "      <td>Both Genders</td>\n",
       "      <td>\\t\\t  18 to 24 years</td>\n",
       "      <td>1707</td>\n",
       "      <td>5</td>\n",
       "      <td>0</td>\n",
       "      <td>0</td>\n",
       "      <td>4</td>\n",
       "      <td>6</td>\n",
       "      <td>17</td>\n",
       "      <td>157</td>\n",
       "      <td>266</td>\n",
       "      <td>711</td>\n",
       "      <td>13</td>\n",
       "      <td>64</td>\n",
       "      <td>421</td>\n",
       "      <td>39</td>\n",
       "      <td>0</td>\n",
       "      <td>2</td>\n",
       "      <td>Asian</td>\n",
       "    </tr>\n",
       "    <tr>\n",
       "      <th>2</th>\n",
       "      <td>Both Genders</td>\n",
       "      <td>\\t 25 years and over</td>\n",
       "      <td>14247</td>\n",
       "      <td>128</td>\n",
       "      <td>64</td>\n",
       "      <td>152</td>\n",
       "      <td>181</td>\n",
       "      <td>114</td>\n",
       "      <td>122</td>\n",
       "      <td>249</td>\n",
       "      <td>2529</td>\n",
       "      <td>1065</td>\n",
       "      <td>372</td>\n",
       "      <td>580</td>\n",
       "      <td>4798</td>\n",
       "      <td>2788</td>\n",
       "      <td>332</td>\n",
       "      <td>775</td>\n",
       "      <td>Asian</td>\n",
       "    </tr>\n",
       "    <tr>\n",
       "      <th>3</th>\n",
       "      <td>Both Genders</td>\n",
       "      <td>\\t\\t  25 to 29 years</td>\n",
       "      <td>1596</td>\n",
       "      <td>0</td>\n",
       "      <td>0</td>\n",
       "      <td>0</td>\n",
       "      <td>3</td>\n",
       "      <td>0</td>\n",
       "      <td>10</td>\n",
       "      <td>25</td>\n",
       "      <td>169</td>\n",
       "      <td>157</td>\n",
       "      <td>42</td>\n",
       "      <td>56</td>\n",
       "      <td>689</td>\n",
       "      <td>390</td>\n",
       "      <td>21</td>\n",
       "      <td>35</td>\n",
       "      <td>Asian</td>\n",
       "    </tr>\n",
       "    <tr>\n",
       "      <th>4</th>\n",
       "      <td>Both Genders</td>\n",
       "      <td>\\t\\t  30 to 34 years</td>\n",
       "      <td>1679</td>\n",
       "      <td>2</td>\n",
       "      <td>0</td>\n",
       "      <td>7</td>\n",
       "      <td>9</td>\n",
       "      <td>5</td>\n",
       "      <td>8</td>\n",
       "      <td>15</td>\n",
       "      <td>157</td>\n",
       "      <td>111</td>\n",
       "      <td>43</td>\n",
       "      <td>85</td>\n",
       "      <td>564</td>\n",
       "      <td>524</td>\n",
       "      <td>44</td>\n",
       "      <td>106</td>\n",
       "      <td>Asian</td>\n",
       "    </tr>\n",
       "  </tbody>\n",
       "</table>\n",
       "</div>"
      ],
      "text/plain": [
       "         Gender             Age Group  Total  None  1st - 4th grade  \\\n",
       "0  Both Genders  \\t 18 years and over  15954   133               64   \n",
       "1  Both Genders  \\t\\t  18 to 24 years   1707     5                0   \n",
       "2  Both Genders  \\t 25 years and over  14247   128               64   \n",
       "3  Both Genders  \\t\\t  25 to 29 years   1596     0                0   \n",
       "4  Both Genders  \\t\\t  30 to 34 years   1679     2                0   \n",
       "\n",
       "   5th - 6th grade  7th - 8th grade  9th grade  10th grade  11th grade  \\\n",
       "0              152              185        120         139         406   \n",
       "1                0                4          6          17         157   \n",
       "2              152              181        114         122         249   \n",
       "3                0                3          0          10          25   \n",
       "4                7                9          5           8          15   \n",
       "\n",
       "   High school graduate  Some college, no degree  \\\n",
       "0                  2795                     1776   \n",
       "1                   266                      711   \n",
       "2                  2529                     1065   \n",
       "3                   169                      157   \n",
       "4                   157                      111   \n",
       "\n",
       "   Associates degree, occupational  Associates degree, academic  \\\n",
       "0                              385                          644   \n",
       "1                               13                           64   \n",
       "2                              372                          580   \n",
       "3                               42                           56   \n",
       "4                               43                           85   \n",
       "\n",
       "   Bachelors degree  Masters degree  Professional degree  Doctoral degree  \\\n",
       "0              5219            2828                  332              777   \n",
       "1               421              39                    0                2   \n",
       "2              4798            2788                  332              775   \n",
       "3               689             390                   21               35   \n",
       "4               564             524                   44              106   \n",
       "\n",
       "  Ethnicity  \n",
       "0     Asian  \n",
       "1     Asian  \n",
       "2     Asian  \n",
       "3     Asian  \n",
       "4     Asian  "
      ]
     },
     "execution_count": 379,
     "metadata": {},
     "output_type": "execute_result"
    }
   ],
   "source": [
    "Merged_AllEthnicity.rename(columns={'Characteristic' : 'Age Group'}, inplace=True)\n",
    "Merged_AllEthnicity.head()"
   ]
  },
  {
   "cell_type": "markdown",
   "metadata": {},
   "source": [
    "Feature 2 - Manipulate and clean data: Removed additional characters from column Age Group and removed a blank row from the data set. "
   ]
  },
  {
   "cell_type": "code",
   "execution_count": 380,
   "metadata": {},
   "outputs": [
    {
     "data": {
      "text/plain": [
       "array(['18 years and over', '18 to 24 years', '25 years and over',\n",
       "       '25 to 29 years', '30 to 34 years', '35 to 39 years',\n",
       "       '40 to 44 years', '45 to 49 years', '50 to 54 years',\n",
       "       '55 to 59 years', '60 to 64 years', '65 to 69 years',\n",
       "       '70 to 74 years', '75 years and over'], dtype=object)"
      ]
     },
     "execution_count": 380,
     "metadata": {},
     "output_type": "execute_result"
    }
   ],
   "source": [
    "Merged_AllEthnicity['Age Group'] = Merged_AllEthnicity['Age Group'].str.replace('\\t\\t ', '')\n",
    "Merged_AllEthnicity['Age Group'] = Merged_AllEthnicity['Age Group'].str.replace('\\t ', '')\n",
    "Merged_AllEthnicity['Age Group'] = Merged_AllEthnicity['Age Group'].str.replace('\\t\\t', '')\n",
    "Merged_AllEthnicity['Age Group'] = Merged_AllEthnicity['Age Group'].str.strip()\n",
    "Merged_AllEthnicity['Age Group'].unique()"
   ]
  },
  {
   "cell_type": "code",
   "execution_count": 381,
   "metadata": {},
   "outputs": [
    {
     "data": {
      "text/html": [
       "<div>\n",
       "<style scoped>\n",
       "    .dataframe tbody tr th:only-of-type {\n",
       "        vertical-align: middle;\n",
       "    }\n",
       "\n",
       "    .dataframe tbody tr th {\n",
       "        vertical-align: top;\n",
       "    }\n",
       "\n",
       "    .dataframe thead th {\n",
       "        text-align: right;\n",
       "    }\n",
       "</style>\n",
       "<table border=\"1\" class=\"dataframe\">\n",
       "  <thead>\n",
       "    <tr style=\"text-align: right;\">\n",
       "      <th></th>\n",
       "      <th>Gender</th>\n",
       "      <th>Age Group</th>\n",
       "      <th>Total</th>\n",
       "      <th>None</th>\n",
       "      <th>1st - 4th grade</th>\n",
       "      <th>5th - 6th grade</th>\n",
       "      <th>7th - 8th grade</th>\n",
       "      <th>9th grade</th>\n",
       "      <th>10th grade</th>\n",
       "      <th>11th grade</th>\n",
       "      <th>High school graduate</th>\n",
       "      <th>Some college, no degree</th>\n",
       "      <th>Associates degree, occupational</th>\n",
       "      <th>Associates degree, academic</th>\n",
       "      <th>Bachelors degree</th>\n",
       "      <th>Masters degree</th>\n",
       "      <th>Professional degree</th>\n",
       "      <th>Doctoral degree</th>\n",
       "      <th>Ethnicity</th>\n",
       "    </tr>\n",
       "  </thead>\n",
       "  <tbody>\n",
       "  </tbody>\n",
       "</table>\n",
       "</div>"
      ],
      "text/plain": [
       "Empty DataFrame\n",
       "Columns: [Gender, Age Group, Total, None, 1st - 4th grade, 5th - 6th grade, 7th - 8th grade, 9th grade, 10th grade, 11th grade, High school graduate, Some college, no degree, Associates degree, occupational, Associates degree, academic, Bachelors degree, Masters degree, Professional degree, Doctoral degree, Ethnicity]\n",
       "Index: []"
      ]
     },
     "execution_count": 381,
     "metadata": {},
     "output_type": "execute_result"
    }
   ],
   "source": [
    "Merged_AllEthnicity[Merged_AllEthnicity['Age Group'].isna()]"
   ]
  },
  {
   "cell_type": "code",
   "execution_count": 382,
   "metadata": {},
   "outputs": [
    {
     "name": "stdout",
     "output_type": "stream",
     "text": [
      "<class 'pandas.core.frame.DataFrame'>\n",
      "Int64Index: 168 entries, 0 to 41\n",
      "Data columns (total 19 columns):\n",
      " #   Column                           Non-Null Count  Dtype \n",
      "---  ------                           --------------  ----- \n",
      " 0   Gender                           168 non-null    object\n",
      " 1   Age Group                        168 non-null    object\n",
      " 2   Total                            168 non-null    int64 \n",
      " 3   None                             168 non-null    int64 \n",
      " 4   1st - 4th grade                  168 non-null    int64 \n",
      " 5   5th - 6th grade                  168 non-null    int64 \n",
      " 6   7th - 8th grade                  168 non-null    int64 \n",
      " 7   9th grade                        168 non-null    int64 \n",
      " 8   10th grade                       168 non-null    int64 \n",
      " 9   11th grade                       168 non-null    int64 \n",
      " 10  High school graduate             168 non-null    int64 \n",
      " 11  Some college, no degree          168 non-null    int64 \n",
      " 12  Associates degree, occupational  168 non-null    int64 \n",
      " 13  Associates degree, academic      168 non-null    int64 \n",
      " 14  Bachelors degree                 168 non-null    int64 \n",
      " 15  Masters degree                   168 non-null    int64 \n",
      " 16  Professional degree              168 non-null    int64 \n",
      " 17  Doctoral degree                  168 non-null    int64 \n",
      " 18  Ethnicity                        168 non-null    object\n",
      "dtypes: int64(16), object(3)\n",
      "memory usage: 26.2+ KB\n",
      "None\n",
      "number of rows :  168\n"
     ]
    }
   ],
   "source": [
    "Merged_AllEthnicity.drop(Merged_AllEthnicity[Merged_AllEthnicity['Age Group'].isna()].index, inplace=True)\n",
    "print(Merged_AllEthnicity.info())\n",
    "print(\"number of rows : \", Merged_AllEthnicity.shape[0])"
   ]
  },
  {
   "cell_type": "code",
   "execution_count": 383,
   "metadata": {},
   "outputs": [
    {
     "data": {
      "text/plain": [
       "array(['18 years and over', '18 to 24 years', '25 years and over',\n",
       "       '25 to 29 years', '30 to 34 years', '35 to 39 years',\n",
       "       '40 to 44 years', '45 to 49 years', '50 to 54 years',\n",
       "       '55 to 59 years', '60 to 64 years', '65 to 69 years',\n",
       "       '70 to 74 years', '75 years and over'], dtype=object)"
      ]
     },
     "execution_count": 383,
     "metadata": {},
     "output_type": "execute_result"
    }
   ],
   "source": [
    "Merged_AllEthnicity['Age Group'].unique()"
   ]
  },
  {
   "cell_type": "markdown",
   "metadata": {},
   "source": [
    "Feature 2 - Manipulate and clean data: Created additional columns that contain aggregated data from the data set. "
   ]
  },
  {
   "cell_type": "code",
   "execution_count": 384,
   "metadata": {},
   "outputs": [
    {
     "name": "stdout",
     "output_type": "stream",
     "text": [
      "<class 'pandas.core.frame.DataFrame'>\n",
      "Int64Index: 168 entries, 0 to 41\n",
      "Data columns (total 22 columns):\n",
      " #   Column                           Non-Null Count  Dtype \n",
      "---  ------                           --------------  ----- \n",
      " 0   Gender                           168 non-null    object\n",
      " 1   Age Group                        168 non-null    object\n",
      " 2   Total                            168 non-null    int64 \n",
      " 3   None                             168 non-null    int64 \n",
      " 4   1st - 4th grade                  168 non-null    int64 \n",
      " 5   5th - 6th grade                  168 non-null    int64 \n",
      " 6   7th - 8th grade                  168 non-null    int64 \n",
      " 7   9th grade                        168 non-null    int64 \n",
      " 8   10th grade                       168 non-null    int64 \n",
      " 9   11th grade                       168 non-null    int64 \n",
      " 10  High school graduate             168 non-null    int64 \n",
      " 11  Some college, no degree          168 non-null    int64 \n",
      " 12  Associates degree, occupational  168 non-null    int64 \n",
      " 13  Associates degree, academic      168 non-null    int64 \n",
      " 14  Bachelors degree                 168 non-null    int64 \n",
      " 15  Masters degree                   168 non-null    int64 \n",
      " 16  Professional degree              168 non-null    int64 \n",
      " 17  Doctoral degree                  168 non-null    int64 \n",
      " 18  Ethnicity                        168 non-null    object\n",
      " 19  Less than High School            168 non-null    int64 \n",
      " 20  Associate Degree & Some College  168 non-null    int64 \n",
      " 21  Higher Education                 168 non-null    int64 \n",
      "dtypes: int64(19), object(3)\n",
      "memory usage: 30.2+ KB\n",
      "None\n",
      "number of rows :  168\n"
     ]
    }
   ],
   "source": [
    "Merged_AllEthnicity[\"Less than High School\"] = Merged_AllEthnicity[\"1st - 4th grade\"] + Merged_AllEthnicity[\"5th - 6th grade\"] + Merged_AllEthnicity[\"7th - 8th grade\"] + Merged_AllEthnicity[\"9th grade\"] + Merged_AllEthnicity[\"10th grade\"] + Merged_AllEthnicity [\"11th grade\"]\n",
    "Merged_AllEthnicity[\"Associate Degree & Some College\"] = Merged_AllEthnicity['Some college, no degree'] + Merged_AllEthnicity['Associates degree, occupational'] + Merged_AllEthnicity['Associates degree, academic']\n",
    "Merged_AllEthnicity[\"Higher Education\"] = Merged_AllEthnicity[\"Masters degree\"] + Merged_AllEthnicity[\"Professional degree\"] + Merged_AllEthnicity[\"Doctoral degree\"]\n",
    "print(Merged_AllEthnicity.info())\n",
    "print(\"number of rows : \", Merged_AllEthnicity.shape[0])"
   ]
  },
  {
   "cell_type": "markdown",
   "metadata": {},
   "source": [
    "Feature 3 - Visualize/Present Data: Utilized Groupby function to aggregate data to show demographics of the data set. Filtered the data to include only \"18 years and over\" data. Created a Pie Chart with Matplotlib to show the demographics of the data set."
   ]
  },
  {
   "cell_type": "code",
   "execution_count": 385,
   "metadata": {},
   "outputs": [
    {
     "data": {
      "text/html": [
       "<div>\n",
       "<style scoped>\n",
       "    .dataframe tbody tr th:only-of-type {\n",
       "        vertical-align: middle;\n",
       "    }\n",
       "\n",
       "    .dataframe tbody tr th {\n",
       "        vertical-align: top;\n",
       "    }\n",
       "\n",
       "    .dataframe thead th {\n",
       "        text-align: right;\n",
       "    }\n",
       "</style>\n",
       "<table border=\"1\" class=\"dataframe\">\n",
       "  <thead>\n",
       "    <tr style=\"text-align: right;\">\n",
       "      <th></th>\n",
       "      <th>Ethnicity</th>\n",
       "      <th>Gender</th>\n",
       "      <th>Age Group</th>\n",
       "      <th>Total</th>\n",
       "    </tr>\n",
       "  </thead>\n",
       "  <tbody>\n",
       "    <tr>\n",
       "      <th>0</th>\n",
       "      <td>Asian</td>\n",
       "      <td>Both Genders</td>\n",
       "      <td>18 to 24 years</td>\n",
       "      <td>1707</td>\n",
       "    </tr>\n",
       "    <tr>\n",
       "      <th>1</th>\n",
       "      <td>Asian</td>\n",
       "      <td>Both Genders</td>\n",
       "      <td>18 years and over</td>\n",
       "      <td>15954</td>\n",
       "    </tr>\n",
       "    <tr>\n",
       "      <th>2</th>\n",
       "      <td>Asian</td>\n",
       "      <td>Both Genders</td>\n",
       "      <td>25 to 29 years</td>\n",
       "      <td>1596</td>\n",
       "    </tr>\n",
       "    <tr>\n",
       "      <th>3</th>\n",
       "      <td>Asian</td>\n",
       "      <td>Both Genders</td>\n",
       "      <td>25 years and over</td>\n",
       "      <td>14247</td>\n",
       "    </tr>\n",
       "    <tr>\n",
       "      <th>4</th>\n",
       "      <td>Asian</td>\n",
       "      <td>Both Genders</td>\n",
       "      <td>30 to 34 years</td>\n",
       "      <td>1679</td>\n",
       "    </tr>\n",
       "  </tbody>\n",
       "</table>\n",
       "</div>"
      ],
      "text/plain": [
       "  Ethnicity        Gender          Age Group  Total\n",
       "0     Asian  Both Genders     18 to 24 years   1707\n",
       "1     Asian  Both Genders  18 years and over  15954\n",
       "2     Asian  Both Genders     25 to 29 years   1596\n",
       "3     Asian  Both Genders  25 years and over  14247\n",
       "4     Asian  Both Genders     30 to 34 years   1679"
      ]
     },
     "execution_count": 385,
     "metadata": {},
     "output_type": "execute_result"
    }
   ],
   "source": [
    "Demographics_df = Merged_AllEthnicity.groupby([\"Ethnicity\", \"Gender\", \"Age Group\"])['Total'].sum().reset_index()\n",
    "indexNames = Demographics_df[~(Demographics_df['Gender'] == 'Both Genders')].index \n",
    "Demographics_df.drop(indexNames , inplace=True)\n",
    "Demographics_df.head()"
   ]
  },
  {
   "cell_type": "code",
   "execution_count": 386,
   "metadata": {},
   "outputs": [
    {
     "data": {
      "text/html": [
       "<div>\n",
       "<style scoped>\n",
       "    .dataframe tbody tr th:only-of-type {\n",
       "        vertical-align: middle;\n",
       "    }\n",
       "\n",
       "    .dataframe tbody tr th {\n",
       "        vertical-align: top;\n",
       "    }\n",
       "\n",
       "    .dataframe thead th {\n",
       "        text-align: right;\n",
       "    }\n",
       "</style>\n",
       "<table border=\"1\" class=\"dataframe\">\n",
       "  <thead>\n",
       "    <tr style=\"text-align: right;\">\n",
       "      <th></th>\n",
       "      <th>Ethnicity</th>\n",
       "      <th>Gender</th>\n",
       "      <th>Age Group</th>\n",
       "      <th>Total</th>\n",
       "    </tr>\n",
       "  </thead>\n",
       "  <tbody>\n",
       "    <tr>\n",
       "      <th>1</th>\n",
       "      <td>Asian</td>\n",
       "      <td>Both Genders</td>\n",
       "      <td>18 years and over</td>\n",
       "      <td>15954</td>\n",
       "    </tr>\n",
       "    <tr>\n",
       "      <th>43</th>\n",
       "      <td>Black or African American</td>\n",
       "      <td>Both Genders</td>\n",
       "      <td>18 years and over</td>\n",
       "      <td>32383</td>\n",
       "    </tr>\n",
       "    <tr>\n",
       "      <th>85</th>\n",
       "      <td>Hispanic or LatinX</td>\n",
       "      <td>Both Genders</td>\n",
       "      <td>18 years and over</td>\n",
       "      <td>42749</td>\n",
       "    </tr>\n",
       "    <tr>\n",
       "      <th>127</th>\n",
       "      <td>White</td>\n",
       "      <td>Both Genders</td>\n",
       "      <td>18 years and over</td>\n",
       "      <td>196436</td>\n",
       "    </tr>\n",
       "  </tbody>\n",
       "</table>\n",
       "</div>"
      ],
      "text/plain": [
       "                     Ethnicity        Gender          Age Group   Total\n",
       "1                        Asian  Both Genders  18 years and over   15954\n",
       "43   Black or African American  Both Genders  18 years and over   32383\n",
       "85          Hispanic or LatinX  Both Genders  18 years and over   42749\n",
       "127                      White  Both Genders  18 years and over  196436"
      ]
     },
     "execution_count": 386,
     "metadata": {},
     "output_type": "execute_result"
    }
   ],
   "source": [
    "indexNames = Demographics_df[~(Demographics_df['Age Group'] == '18 years and over')].index \n",
    "Demographics_df.drop(indexNames , inplace=True)\n",
    "Demographics_df.head()"
   ]
  },
  {
   "cell_type": "code",
   "execution_count": 387,
   "metadata": {},
   "outputs": [
    {
     "data": {
      "image/png": "[encoded data removed]",
      "text/plain": [
       "<Figure size 432x288 with 1 Axes>"
      ]
     },
     "metadata": {},
     "output_type": "display_data"
    }
   ],
   "source": [
    "# Pie chart\n",
    "\n",
    "my_labels = 'Asian','Black or African American', 'Hispanic or LatinX', 'White'\n",
    "my_colors =['darksalmon','skyblue', 'gray', 'lightgreen']\n",
    "plt.pie(Demographics_df.Total,labels=my_labels,autopct='%1.1f%%', colors= my_colors)\n",
    "plt.title('Percentage of US Population per Ethnicity')\n",
    "plt.axis('equal')\n",
    "plt.show()"
   ]
  },
  {
   "cell_type": "markdown",
   "metadata": {},
   "source": [
    "Feature 5 -Interpretation of your data: The data presented is from the 2021 - US Census Education Attainment. This chart shows that the majority of the US population that responded to this survey is white (68%), followed by Hispanic and LatinX (14.9%), Black or African American (11.3%) and Asian (5.5%). "
   ]
  },
  {
   "cell_type": "markdown",
   "metadata": {},
   "source": [
    "Feature 3 - Visualize/Present Data: Utilized .loc to filter data to show Female and Male demographics. Filtered the data to include only \"18 years and over\" data. Created a Stacked Bar Chart with Matplotlib to show the Gender differences per Ethnicity of the data set."
   ]
  },
  {
   "cell_type": "code",
   "execution_count": 388,
   "metadata": {},
   "outputs": [
    {
     "data": {
      "text/html": [
       "<div>\n",
       "<style scoped>\n",
       "    .dataframe tbody tr th:only-of-type {\n",
       "        vertical-align: middle;\n",
       "    }\n",
       "\n",
       "    .dataframe tbody tr th {\n",
       "        vertical-align: top;\n",
       "    }\n",
       "\n",
       "    .dataframe thead th {\n",
       "        text-align: right;\n",
       "    }\n",
       "</style>\n",
       "<table border=\"1\" class=\"dataframe\">\n",
       "  <thead>\n",
       "    <tr style=\"text-align: right;\">\n",
       "      <th></th>\n",
       "      <th>Total</th>\n",
       "      <th>Ethnicity</th>\n",
       "    </tr>\n",
       "  </thead>\n",
       "  <tbody>\n",
       "    <tr>\n",
       "      <th>28</th>\n",
       "      <td>8523</td>\n",
       "      <td>Asian</td>\n",
       "    </tr>\n",
       "    <tr>\n",
       "      <th>28</th>\n",
       "      <td>21430</td>\n",
       "      <td>Hispanic or LatinX</td>\n",
       "    </tr>\n",
       "    <tr>\n",
       "      <th>28</th>\n",
       "      <td>17579</td>\n",
       "      <td>Black or African American</td>\n",
       "    </tr>\n",
       "    <tr>\n",
       "      <th>28</th>\n",
       "      <td>99963</td>\n",
       "      <td>White</td>\n",
       "    </tr>\n",
       "  </tbody>\n",
       "</table>\n",
       "</div>"
      ],
      "text/plain": [
       "    Total                  Ethnicity\n",
       "28   8523                      Asian\n",
       "28  21430         Hispanic or LatinX\n",
       "28  17579  Black or African American\n",
       "28  99963                      White"
      ]
     },
     "execution_count": 388,
     "metadata": {},
     "output_type": "execute_result"
    }
   ],
   "source": [
    "Df_Female = Merged_AllEthnicity.loc[Merged_AllEthnicity[\"Gender\"] == \"Female\", [\"Total\", \"Age Group\", \"Ethnicity\"]]\n",
    "Df_Female = Df_Female.loc[Df_Female['Age Group'] == '18 years and over', [\"Total\", \"Ethnicity\"]]\n",
    "Df_Female"
   ]
  },
  {
   "cell_type": "code",
   "execution_count": 389,
   "metadata": {},
   "outputs": [
    {
     "data": {
      "text/html": [
       "<div>\n",
       "<style scoped>\n",
       "    .dataframe tbody tr th:only-of-type {\n",
       "        vertical-align: middle;\n",
       "    }\n",
       "\n",
       "    .dataframe tbody tr th {\n",
       "        vertical-align: top;\n",
       "    }\n",
       "\n",
       "    .dataframe thead th {\n",
       "        text-align: right;\n",
       "    }\n",
       "</style>\n",
       "<table border=\"1\" class=\"dataframe\">\n",
       "  <thead>\n",
       "    <tr style=\"text-align: right;\">\n",
       "      <th></th>\n",
       "      <th>Total</th>\n",
       "      <th>Ethnicity</th>\n",
       "    </tr>\n",
       "  </thead>\n",
       "  <tbody>\n",
       "    <tr>\n",
       "      <th>14</th>\n",
       "      <td>7432</td>\n",
       "      <td>Asian</td>\n",
       "    </tr>\n",
       "    <tr>\n",
       "      <th>14</th>\n",
       "      <td>21318</td>\n",
       "      <td>Hispanic or LatinX</td>\n",
       "    </tr>\n",
       "    <tr>\n",
       "      <th>14</th>\n",
       "      <td>14804</td>\n",
       "      <td>Black or African American</td>\n",
       "    </tr>\n",
       "    <tr>\n",
       "      <th>14</th>\n",
       "      <td>96473</td>\n",
       "      <td>White</td>\n",
       "    </tr>\n",
       "  </tbody>\n",
       "</table>\n",
       "</div>"
      ],
      "text/plain": [
       "    Total                  Ethnicity\n",
       "14   7432                      Asian\n",
       "14  21318         Hispanic or LatinX\n",
       "14  14804  Black or African American\n",
       "14  96473                      White"
      ]
     },
     "execution_count": 389,
     "metadata": {},
     "output_type": "execute_result"
    }
   ],
   "source": [
    "Df_Male = Merged_AllEthnicity.loc[Merged_AllEthnicity[\"Gender\"] == \"Male\", [\"Total\", \"Age Group\", \"Ethnicity\"]]\n",
    "Df_Male = Df_Male.loc[Df_Male['Age Group'] == '18 years and over', [\"Total\", \"Ethnicity\"]]\n",
    "Df_Male"
   ]
  },
  {
   "cell_type": "code",
   "execution_count": 405,
   "metadata": {},
   "outputs": [
    {
     "data": {
      "text/plain": [
       "Text(0.5, 1.0, 'Number of Female and Male per Ethnicity')"
      ]
     },
     "execution_count": 405,
     "metadata": {},
     "output_type": "execute_result"
    },
    {
     "data": {
      "image/png": "[encoded data removed]",
      "text/plain": [
       "<Figure size 432x288 with 1 Axes>"
      ]
     },
     "metadata": {
      "needs_background": "light"
     },
     "output_type": "display_data"
    }
   ],
   "source": [
    "fig = plt.figure()\n",
    "ax = fig.add_axes([0,0,1,1])\n",
    "ax.bar(Df_Female[\"Ethnicity\"], Df_Female[\"Total\"], color = 'b', width = 0.25, label=\"Female\")\n",
    "ax.bar(Df_Male[\"Ethnicity\"], Df_Male[\"Total\"], color = 'r', width = 0.25, label=\"Male\", bottom=Df_Female[\"Total\"])\n",
    "ax.legend()\n",
    "ax.set_title('Number of Female and Male per Ethnicity')\n"
   ]
  },
  {
   "cell_type": "markdown",
   "metadata": {},
   "source": [
    "Feature 5 -Interpretation of your data: This chart shows the breakdown per gender of each Ethnicity. In general there is not a large difference between genders for all ethnicities. The Asian and Hispanic populations have a slightly higher population of females than males, while Black or African American and White have slightly higher population of males than females."
   ]
  },
  {
   "cell_type": "markdown",
   "metadata": {},
   "source": [
    "Feature 3 - Visualize/Present Data: Utilized .loc to filter data to show only the age group of 18 years and over, and to show both genders only. Aggregated the data by utilizing a Pivot Table to show the differences in education level per Ethnicity, and created a bar chart of this pivot table to show a different way to visualize this information. "
   ]
  },
  {
   "cell_type": "code",
   "execution_count": 409,
   "metadata": {},
   "outputs": [
    {
     "data": {
      "text/html": [
       "<div>\n",
       "<style scoped>\n",
       "    .dataframe tbody tr th:only-of-type {\n",
       "        vertical-align: middle;\n",
       "    }\n",
       "\n",
       "    .dataframe tbody tr th {\n",
       "        vertical-align: top;\n",
       "    }\n",
       "\n",
       "    .dataframe thead th {\n",
       "        text-align: right;\n",
       "    }\n",
       "</style>\n",
       "<table border=\"1\" class=\"dataframe\">\n",
       "  <thead>\n",
       "    <tr style=\"text-align: right;\">\n",
       "      <th></th>\n",
       "      <th>Associate Degree &amp; Some College</th>\n",
       "      <th>Bachelors degree</th>\n",
       "      <th>High school graduate</th>\n",
       "      <th>Higher Education</th>\n",
       "      <th>Less than High School</th>\n",
       "      <th>None</th>\n",
       "    </tr>\n",
       "    <tr>\n",
       "      <th>Ethnicity</th>\n",
       "      <th></th>\n",
       "      <th></th>\n",
       "      <th></th>\n",
       "      <th></th>\n",
       "      <th></th>\n",
       "      <th></th>\n",
       "    </tr>\n",
       "  </thead>\n",
       "  <tbody>\n",
       "    <tr>\n",
       "      <th>Asian</th>\n",
       "      <td>2805</td>\n",
       "      <td>5219</td>\n",
       "      <td>2795</td>\n",
       "      <td>3937</td>\n",
       "      <td>1066</td>\n",
       "      <td>133</td>\n",
       "    </tr>\n",
       "    <tr>\n",
       "      <th>Black or African American</th>\n",
       "      <td>9752</td>\n",
       "      <td>5177</td>\n",
       "      <td>11059</td>\n",
       "      <td>3077</td>\n",
       "      <td>3244</td>\n",
       "      <td>72</td>\n",
       "    </tr>\n",
       "    <tr>\n",
       "      <th>Hispanic or LatinX</th>\n",
       "      <td>10568</td>\n",
       "      <td>5635</td>\n",
       "      <td>13849</td>\n",
       "      <td>2209</td>\n",
       "      <td>10078</td>\n",
       "      <td>411</td>\n",
       "    </tr>\n",
       "    <tr>\n",
       "      <th>White</th>\n",
       "      <td>53314</td>\n",
       "      <td>44351</td>\n",
       "      <td>55312</td>\n",
       "      <td>24811</td>\n",
       "      <td>18104</td>\n",
       "      <td>545</td>\n",
       "    </tr>\n",
       "  </tbody>\n",
       "</table>\n",
       "</div>"
      ],
      "text/plain": [
       "                           Associate Degree & Some College  Bachelors degree  \\\n",
       "Ethnicity                                                                      \n",
       "Asian                                                 2805              5219   \n",
       "Black or African American                             9752              5177   \n",
       "Hispanic or LatinX                                   10568              5635   \n",
       "White                                                53314             44351   \n",
       "\n",
       "                           High school graduate  Higher Education  \\\n",
       "Ethnicity                                                           \n",
       "Asian                                      2795              3937   \n",
       "Black or African American                 11059              3077   \n",
       "Hispanic or LatinX                        13849              2209   \n",
       "White                                     55312             24811   \n",
       "\n",
       "                           Less than High School  None  \n",
       "Ethnicity                                               \n",
       "Asian                                       1066   133  \n",
       "Black or African American                   3244    72  \n",
       "Hispanic or LatinX                         10078   411  \n",
       "White                                      18104   545  "
      ]
     },
     "execution_count": 409,
     "metadata": {},
     "output_type": "execute_result"
    }
   ],
   "source": [
    "Education_Level = Merged_AllEthnicity.loc[Merged_AllEthnicity['Age Group'] == '18 years and over'] \n",
    "Education_Level = Education_Level.loc[Education_Level['Gender'] == 'Both Genders']\n",
    "Education_Level.pivot_table(index=[\"Ethnicity\"], values=[\"None\", \"Less than High School\", \"High school graduate\", \"Associate Degree & Some College\", \"Bachelors degree\", \"Higher Education\"], aggfunc=sum)"
   ]
  },
  {
   "cell_type": "code",
   "execution_count": 411,
   "metadata": {},
   "outputs": [
    {
     "data": {
      "text/plain": [
       "Text(0.5, 1.0, 'Education Level per Ethnicity')"
      ]
     },
     "execution_count": 411,
     "metadata": {},
     "output_type": "execute_result"
    },
    {
     "data": {
      "image/png": "[encoded data removed]",
      "text/plain": [
       "<Figure size 432x288 with 1 Axes>"
      ]
     },
     "metadata": {
      "needs_background": "light"
     },
     "output_type": "display_data"
    }
   ],
   "source": [
    "Education_Level.pivot_table(index=[\"Ethnicity\"], values=[\"None\", \"Less than High School\", \"High school graduate\", \"Associate Degree & Some College\", \"Bachelors degree\", \"Higher Education\"], aggfunc=sum).plot(kind='bar')\n",
    "plt.title('Education Level per Ethnicity')"
   ]
  },
  {
   "cell_type": "markdown",
   "metadata": {},
   "source": [
    "Feature 5 -Interpretation of your data: \n",
    "This data set is from 2021 Census and is showing population 18 years old and over. \n",
    "Asian Population: Data shows that Asian population has obtained more Bachelor's Degree (5219), followed by Higher Education (3937), and Associate Degree & Some College (2805). \n",
    "Black or African American: Data shows that the Black or African American population has obtained more High school degrees (11059), followed by Associate Degrees & Some College (9752), and Bachelor's Degrees (5177). Note that the number of people that completed Bachelor's degree is significantly lower than High School and Associate Degrees & Some College. \n",
    "Hispanic or LatinX: Data shows that the Hispanic or LatinX population has obtained more High school degrees (13849), followed by Associate Degrees & Some College (10568), and Less than High School (10078).\n",
    "White: Data shows that the White population has obtained more High school degrees (55312), followed by Associate Degrees & Some College (53314), and Bachelors degree (44351).\n",
    "\n",
    "Final Considerations: \n",
    "\n",
    "My goal with this project is to understand the level of education of the US population by ethnicity. This information can help the company that I work for understand the talent pool available in the US and based on data, create strategies to achieve a more diverse workforce.\n",
    "\n",
    "This study shows that the top two levels of education most obtained by the Asian population are bachelor's degrees followed by Higher Education. This is completely different than other ethnicities. The top two levels of education most obtained by White, Black or African American, and Hispanic is High School Degree followed by Associate Degree & Some College. \n",
    "\n",
    "A bachelor's degree is the third level of education most obtained for the White and Black and African American population. However, for the Black or African American population, the number of people that obtained a bachelor's degree is significantly lower compared to the top two levels of education. For the Hispanic and LatinX population, bachelor's degree is the fourth most obtained level of education. \n",
    "\n",
    "Most positions in the company where I work require a minimum of a bachelor's degree. Therefore, to increase the talent pool, I believe the company should invest in sponsoring scholarships for bachelor's degrees and/or partnering with organizations that support people to continue furthering their education. This would be beneficial, particularly for Black or African American and Hispanic or Latin populations, which have a lower number of bachelor's degree completion.  \n",
    "\n"
   ]
  },
  {
   "cell_type": "markdown",
   "metadata": {},
   "source": [
    "Feature 4 -Best Practices: Utilized a Virtual Environment and created a Requirements.txt with the necessary packages to run the project."
   ]
  }
 ],
 "metadata": {
  "kernelspec": {
   "display_name": "Python 3.9.7 ('base')",
   "language": "python",
   "name": "python3"
  },
  "language_info": {
   "codemirror_mode": {
    "name": "ipython",
    "version": 3
   },
   "file_extension": ".py",
   "mimetype": "text/x-python",
   "name": "python",
   "nbconvert_exporter": "python",
   "pygments_lexer": "ipython3",
   "version": "3.9.7"
  },
  "orig_nbformat": 4,
  "vscode": {
   "interpreter": {
    "hash": "585a938ec471c889bf0cce0aed741a99eaf47ca09c0fa8393793bc5bfe77ba11"
   }
  }
 },
 "nbformat": 4,
 "nbformat_minor": 2
}
